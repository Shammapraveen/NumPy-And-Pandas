{
 "cells": [
  {
   "cell_type": "markdown",
   "metadata": {},
   "source": [
    "### NumPy Basics\n",
    "\n",
    "#### Creating a Basic Array"
   ]
  },
  {
   "cell_type": "code",
   "execution_count": 1,
   "metadata": {},
   "outputs": [
    {
     "name": "stdout",
     "output_type": "stream",
     "text": [
      "[1 2 3]\n",
      "['a' 'b' 'c' 'd' 'e']\n",
      "[1 2 3 4 5]\n",
      "<class 'numpy.ndarray'>\n"
     ]
    }
   ],
   "source": [
    "import numpy as np\n",
    "arr1=np.array([1,2,3])\n",
    "arr2=np.array(['a','b','c','d','e'])\n",
    "arr3= np.array((1, 2, 3, 4, 5)) \n",
    "print(arr1)\n",
    "print(arr2)\n",
    "print(arr3)\n",
    "print(type(arr1))"
   ]
  },
  {
   "cell_type": "markdown",
   "metadata": {},
   "source": [
    "**Array using np.zero(), np.ones(), np.arange()**"
   ]
  },
  {
   "cell_type": "code",
   "execution_count": 4,
   "metadata": {},
   "outputs": [
    {
     "name": "stdout",
     "output_type": "stream",
     "text": [
      "[0. 0. 0.]\n",
      "[1. 1. 1. 1. 1.]\n",
      "[0 1 2 3 4 5 6 7 8 9]\n",
      "[2 3 4 5 6 7 8]\n",
      "[1 3 5 7 9]\n"
     ]
    }
   ],
   "source": [
    "import numpy as np\n",
    "a=np.zeros(3)\n",
    "b=np.ones(5)\n",
    "c=np.arange(10)\n",
    "d=np.arange(2,9)   # To specify start and stop\n",
    "e=np.arange(1,10,2) # To specify start and stop with step size\n",
    "print(a)\n",
    "print(b)\n",
    "print(c)\n",
    "print(d)\n",
    "print(e)"
   ]
  },
  {
   "cell_type": "markdown",
   "metadata": {},
   "source": [
    "### N-Dimensional Array\n",
    "\n",
    "**A 2-Dimensional Array**\n"
   ]
  },
  {
   "cell_type": "code",
   "execution_count": 5,
   "metadata": {},
   "outputs": [
    {
     "name": "stdout",
     "output_type": "stream",
     "text": [
      "[[1 2 3]\n",
      " [4 5 6]]\n",
      "[[1 2 3]\n",
      " [4 5 6]\n",
      " [7 8 9]]\n",
      "[['a' 'b' 'c']\n",
      " ['d' 'e' 'f']]\n",
      "[[0. 0. 0.]\n",
      " [0. 0. 0.]\n",
      " [0. 0. 0.]]\n",
      "[[1 1]\n",
      " [1 1]]\n"
     ]
    }
   ],
   "source": [
    "import numpy as np\n",
    "arr1=np.array([[1,2,3],[4,5,6]])\n",
    "arr2=np.array([[1,2,3],[4,5,6],[7,8,9]])\n",
    "arr3=np.array([['a','b','c'],['d','e','f']])\n",
    "#creates a 3X3 array with all zeros\n",
    "zeros=np.zeros((3,3))\n",
    "#creates a 2X2 array with all ones\n",
    "ones=np.ones((2,2),dtype='int64')  #specify the type with (dtype) parameter \n",
    "print(arr1)\n",
    "print(arr2)\n",
    "print(arr3)\n",
    "print(zeros)\n",
    "print(ones)"
   ]
  },
  {
   "cell_type": "markdown",
   "metadata": {},
   "source": [
    "Its provides some cool methods we can check the number of dimensions using \n",
    "#### ndim"
   ]
  },
  {
   "cell_type": "code",
   "execution_count": 6,
   "metadata": {},
   "outputs": [
    {
     "name": "stdout",
     "output_type": "stream",
     "text": [
      "0\n",
      "1\n",
      "2\n",
      "3\n"
     ]
    }
   ],
   "source": [
    "import numpy as np\n",
    "a = np.array(42)\n",
    "b = np.array([1, 2, 3, 4, 5])\n",
    "c = np.array([[1, 2, 3], [4, 5, 6]])\n",
    "d = np.array([[[1, 2, 3], [4, 5, 6]], [[1, 2, 3], [4, 5, 6]]])\n",
    "print(a.ndim)\n",
    "print(b.ndim)\n",
    "print(c.ndim)\n",
    "print(d.ndim)"
   ]
  },
  {
   "cell_type": "markdown",
   "metadata": {},
   "source": [
    "**Basic Operation with Arrays**"
   ]
  },
  {
   "cell_type": "code",
   "execution_count": 11,
   "metadata": {},
   "outputs": [
    {
     "name": "stdout",
     "output_type": "stream",
     "text": [
      "[5 5 5 5]\n",
      "[3 3 3 3]\n",
      "[8 8 8 8]\n",
      "[2 2 2 2]\n",
      "[1.66666667 1.66666667 1.66666667 1.66666667]\n",
      "Adding one to all elements: [9 9 9 9]\n",
      "Subtracting one from all elements: [1 1 1 1]\n"
     ]
    }
   ],
   "source": [
    "import numpy as np\n",
    "arr1=np.array([5,5,5,5])\n",
    "arr2=np.array([3,3,3,3])\n",
    "c=arr1+arr2\n",
    "d=arr1-arr2\n",
    "e=arr1/arr2\n",
    "print(arr1)\n",
    "print(arr2)\n",
    "print(c) # addition\n",
    "print(d) # subtraction\n",
    "print(e) # division\n",
    "print(\"Adding one to all elements:\",c+1)\n",
    "print(\"Subtracting one from all elements:\",d-1)"
   ]
  },
  {
   "cell_type": "markdown",
   "metadata": {},
   "source": [
    "### Array Indexing and Slicing\n",
    "\n",
    "**Array Indexing**\n",
    "\n",
    "\n"
   ]
  },
  {
   "cell_type": "code",
   "execution_count": 15,
   "metadata": {},
   "outputs": [
    {
     "name": "stdout",
     "output_type": "stream",
     "text": [
      "3\n",
      "4\n",
      "1\n",
      "D\n",
      "9\n",
      "9\n"
     ]
    }
   ],
   "source": [
    "import numpy as np\n",
    "arr1= np.array([3,2,3,4])\n",
    "arr2= np.array([2,1,1,3])\n",
    "arr3= np.array(['D','e','V','I','n','c','e','p','t'])\n",
    "arr4= np.array([[1,2,3,4,5], [6,7,8,9,10]])\n",
    "print(arr1[0]) # prints first element\n",
    "print(arr1[-1]) # prints last element\n",
    "print(arr2[2]) # prints third element\n",
    "print(arr3[0]) # prints first element\n",
    "print(arr4[1][3]) #prints 9\n",
    "print(arr4[1,3]) # Or you can use this type"
   ]
  },
  {
   "cell_type": "markdown",
   "metadata": {},
   "source": [
    "**Array  Slicing**"
   ]
  },
  {
   "cell_type": "code",
   "execution_count": 16,
   "metadata": {},
   "outputs": [
    {
     "name": "stdout",
     "output_type": "stream",
     "text": [
      "['D' 'e' 'V']\n",
      "['D' 'e' 'V']\n",
      "['I' 'n' 'c' 'e' 'p' 't']\n",
      "['D' 'V' 'n' 'e' 't']\n",
      "[6 7 8]\n",
      "[1 3 5 7 9]\n",
      "[7 8 9]\n",
      "[3 8]\n",
      "[[2 3 4]\n",
      " [7 8 9]]\n"
     ]
    }
   ],
   "source": [
    "import numpy as np\n",
    "arr1=np.array(['D','e','V','I','n','c','e','p','t'])\n",
    "arr2=np.array([1,2,3,4,5,6,7,8,9])\n",
    "#2-D Slicing\n",
    "arr3=np.array([[1, 2, 3, 4, 5], [6, 7, 8, 9, 10]])\n",
    "print(arr1[:3]) # default is taken as 0\n",
    "print(arr1[0:3])\n",
    "print(arr1[3:]) # taken till the end\n",
    "print(arr1[::2])\n",
    "print(arr2[-4:-1])\n",
    "print(arr2[::2]) # step size as 2\n",
    "# 2-D Slicing\n",
    "print(arr3[1,1:4])\n",
    "print(arr3[0:2, 2])\n",
    "print(arr3[0:2, 1:4])"
   ]
  },
  {
   "cell_type": "markdown",
   "metadata": {},
   "source": [
    "All in one Example"
   ]
  },
  {
   "cell_type": "code",
   "execution_count": 17,
   "metadata": {},
   "outputs": [
    {
     "name": "stdout",
     "output_type": "stream",
     "text": [
      "2\n",
      "[1 2]\n",
      "[2 3]\n",
      "[2 3]\n"
     ]
    }
   ],
   "source": [
    "import numpy as np\n",
    "data = np.array([1, 2, 3])\n",
    "print(data[1])\n",
    "print(data[0:2])\n",
    "print(data[1:])\n",
    "print(data[-2:])"
   ]
  },
  {
   "cell_type": "markdown",
   "metadata": {},
   "source": [
    "### NumPy Functions\n",
    "\n",
    "**Numpy Array shape**"
   ]
  },
  {
   "cell_type": "code",
   "execution_count": 18,
   "metadata": {},
   "outputs": [
    {
     "name": "stdout",
     "output_type": "stream",
     "text": [
      "(2, 4)\n",
      "(4,)\n"
     ]
    }
   ],
   "source": [
    "import numpy as np\n",
    "arr = np.array([[1, 2, 3, 4], [5, 6, 7, 8]])\n",
    "arr1= np.array([1,2,3,4])\n",
    "print(arr.shape)\n",
    "print(arr1.shape)"
   ]
  },
  {
   "cell_type": "markdown",
   "metadata": {},
   "source": [
    "All in one example"
   ]
  },
  {
   "cell_type": "code",
   "execution_count": 19,
   "metadata": {},
   "outputs": [
    {
     "name": "stdout",
     "output_type": "stream",
     "text": [
      "No of dimensions of the array: 3\n",
      "Total no of elements of the array: 24\n",
      "Shape of the array: (3, 2, 4)\n"
     ]
    }
   ],
   "source": [
    "array_example = np.array([[[0, 1, 2, 3],\n",
    "                            [4, 5, 6, 7]],\n",
    "\n",
    "                           [[0, 1, 2, 3],\n",
    "                            [4, 5, 6, 7]],\n",
    "\n",
    "                           [[0 ,1 ,2, 3],\n",
    "                            [4, 5, 6, 7]]])\n",
    "print('No of dimensions of the array:',array_example.ndim)     # .ndim for dimensions\n",
    "print('Total no of elements of the array:',array_example.size) # .size for size\n",
    "print('Shape of the array:',array_example.shape)                # .shape for shape"
   ]
  },
  {
   "cell_type": "markdown",
   "metadata": {},
   "source": [
    "### NumPy Array Reshaping\n",
    "**Reshape from 1-Dimensional to 2-Dimensional**"
   ]
  },
  {
   "cell_type": "code",
   "execution_count": 20,
   "metadata": {},
   "outputs": [
    {
     "name": "stdout",
     "output_type": "stream",
     "text": [
      "[[ 1  2  3]\n",
      " [ 4  5  6]\n",
      " [ 7  8  9]\n",
      " [10 11 12]]\n",
      "[['D' 'e' 'V']\n",
      " ['I' 'n' 'c']\n",
      " ['e' 'p' 't']]\n"
     ]
    }
   ],
   "source": [
    "import numpy as np\n",
    "arr1 = np.array([1, 2, 3, 4, 5, 6, 7, 8, 9, 10, 11, 12])\n",
    "newarr1 = arr1.reshape(4, 3)\n",
    "arr2 = np.array(['D','e','V','I','n','c','e','p','t'])\n",
    "newarr2 = arr2.reshape(3,3)\n",
    "print(newarr1)\n",
    "print(newarr2)"
   ]
  },
  {
   "cell_type": "markdown",
   "metadata": {},
   "source": [
    "**Reshape from 1-Dimensional to 3-Dimensional**"
   ]
  },
  {
   "cell_type": "code",
   "execution_count": 21,
   "metadata": {},
   "outputs": [
    {
     "name": "stdout",
     "output_type": "stream",
     "text": [
      "[[[ 1  2]\n",
      "  [ 3  4]\n",
      "  [ 5  6]]\n",
      "\n",
      " [[ 7  8]\n",
      "  [ 9 10]\n",
      "  [11 12]]]\n"
     ]
    }
   ],
   "source": [
    "import numpy as np\n",
    "arr = np.array([1, 2, 3, 4, 5, 6, 7, 8, 9, 10, 11, 12])\n",
    "newarr = arr.reshape(2, 3, 2)\n",
    "print(newarr)"
   ]
  },
  {
   "cell_type": "markdown",
   "metadata": {},
   "source": [
    "**Multi-Dimensional Array into 1-Dimensional Array**"
   ]
  },
  {
   "cell_type": "code",
   "execution_count": 22,
   "metadata": {},
   "outputs": [
    {
     "name": "stdout",
     "output_type": "stream",
     "text": [
      "[1 2 3 4 5 6]\n"
     ]
    }
   ],
   "source": [
    "import numpy as np\n",
    "arr = np.array([[1, 2, 3], [4, 5, 6]])\n",
    "newarr = arr.reshape(-1)\n",
    "print(newarr)"
   ]
  },
  {
   "cell_type": "markdown",
   "metadata": {},
   "source": [
    "### NumPy Sorting and Seaching\n",
    "\n",
    "**Numpy Sorting**"
   ]
  },
  {
   "cell_type": "code",
   "execution_count": 23,
   "metadata": {},
   "outputs": [
    {
     "name": "stdout",
     "output_type": "stream",
     "text": [
      "[0 1 2 3]\n",
      "['blue' 'green' 'red']\n",
      "[[2 3 4]\n",
      " [0 1 5]]\n"
     ]
    }
   ],
   "source": [
    "import numpy as np\n",
    "arr1 = np.array([3, 2, 0, 1])\n",
    "arr2 = np.array(['red','blue','green'])\n",
    "# 2-D array\n",
    "arr3 = np.array([[3, 2, 4], [5, 0, 1]])\n",
    "print(np.sort(arr1))\n",
    "print(np.sort(arr2))\n",
    "print(np.sort(arr3))"
   ]
  },
  {
   "cell_type": "markdown",
   "metadata": {},
   "source": [
    "**NumPy Searching**"
   ]
  },
  {
   "cell_type": "code",
   "execution_count": 24,
   "metadata": {},
   "outputs": [
    {
     "name": "stdout",
     "output_type": "stream",
     "text": [
      "(array([3, 5, 6], dtype=int64),)\n",
      "(array([1, 3, 5, 6], dtype=int64),)\n",
      "(array([0, 2, 4], dtype=int64),)\n"
     ]
    }
   ],
   "source": [
    "import numpy as np\n",
    "arr1 = np.array([1, 2, 3, 4, 5, 4, 4])\n",
    "x = np.where(arr1 == 4)\n",
    "y = np.where(arr1%2 == 0)\n",
    "z = np.where(arr1%2 == 1)\n",
    "print(x)\n",
    "print(y)\n",
    "print(z)"
   ]
  },
  {
   "cell_type": "markdown",
   "metadata": {},
   "source": [
    "**searchsorted()**"
   ]
  },
  {
   "cell_type": "code",
   "execution_count": 25,
   "metadata": {},
   "outputs": [
    {
     "name": "stdout",
     "output_type": "stream",
     "text": [
      "1\n",
      "[1 2 3]\n"
     ]
    }
   ],
   "source": [
    "import numpy as np\n",
    "arr1 = np.array([6, 7, 8, 9])\n",
    "x = np.searchsorted(arr1, 7)\n",
    "print(x)\n",
    "# Multiple values\n",
    "arr2 = np.array([1, 3, 5, 7])\n",
    "y = np.searchsorted(arr2, [2, 4, 6])\n",
    "print(y)"
   ]
  },
  {
   "cell_type": "markdown",
   "metadata": {},
   "source": [
    "### Mean, Median, Mode\n",
    "**Mean**"
   ]
  },
  {
   "cell_type": "code",
   "execution_count": 26,
   "metadata": {},
   "outputs": [
    {
     "name": "stdout",
     "output_type": "stream",
     "text": [
      "21.583333333333332\n"
     ]
    }
   ],
   "source": [
    "import numpy as np\n",
    "arr=np.array([19,13,18,21,44,17,12,31,37,8,12,27])\n",
    "x=np.mean(arr)\n",
    "print(x)"
   ]
  },
  {
   "cell_type": "markdown",
   "metadata": {},
   "source": [
    "**Meadian**"
   ]
  },
  {
   "cell_type": "code",
   "execution_count": 29,
   "metadata": {},
   "outputs": [
    {
     "name": "stdout",
     "output_type": "stream",
     "text": [
      "88.0\n",
      "87.0\n"
     ]
    }
   ],
   "source": [
    "import numpy\n",
    "# For one value in the middle\n",
    "speed = [99,86,87,88,110,85,103,88,94,98,77,85,86]\n",
    "x = numpy.median(speed)\n",
    "print(x)\n",
    "# For two values in the middle\n",
    "speed1 = [99,86,87,88,890,103,87,94,78,77,85,86]\n",
    "y = numpy.median(speed1)\n",
    "print(y)"
   ]
  },
  {
   "cell_type": "markdown",
   "metadata": {},
   "source": [
    "**Mode**"
   ]
  },
  {
   "cell_type": "code",
   "execution_count": 34,
   "metadata": {},
   "outputs": [
    {
     "name": "stdout",
     "output_type": "stream",
     "text": [
      "ModeResult(mode=array([86]), count=array([3]))\n"
     ]
    }
   ],
   "source": [
    "from scipy import stats\n",
    "speed = [99,86,87,88,111,86,103,87,94,78,77,85,86]\n",
    "x = stats.mode(speed)\n",
    "print(x)"
   ]
  },
  {
   "cell_type": "markdown",
   "metadata": {},
   "source": [
    "**Standard Deviation**"
   ]
  },
  {
   "cell_type": "code",
   "execution_count": 33,
   "metadata": {},
   "outputs": [
    {
     "name": "stdout",
     "output_type": "stream",
     "text": [
      "0.9035079029052513\n",
      "37.84501153334721\n"
     ]
    }
   ],
   "source": [
    "import numpy\n",
    "speed = [86,87,88,86,87,85,86]\n",
    "x = numpy.std(speed)\n",
    "print(x)\n",
    "speed1 = [32,111,138,28,59,77,97]\n",
    "y = numpy.std(speed1)\n",
    "print(y)"
   ]
  },
  {
   "cell_type": "markdown",
   "metadata": {},
   "source": []
  }
 ],
 "metadata": {
  "kernelspec": {
   "display_name": "Python 3",
   "language": "python",
   "name": "python3"
  },
  "language_info": {
   "codemirror_mode": {
    "name": "ipython",
    "version": 3
   },
   "file_extension": ".py",
   "mimetype": "text/x-python",
   "name": "python",
   "nbconvert_exporter": "python",
   "pygments_lexer": "ipython3",
   "version": "3.8.5"
  }
 },
 "nbformat": 4,
 "nbformat_minor": 4
}
