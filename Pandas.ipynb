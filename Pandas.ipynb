{
 "cells": [
  {
   "cell_type": "markdown",
   "metadata": {},
   "source": [
    "### Pandas Series\n",
    "\n",
    "#### Creating a Pandas Series\n",
    "**Creating a series from array**"
   ]
  },
  {
   "cell_type": "code",
   "execution_count": 5,
   "metadata": {},
   "outputs": [
    {
     "name": "stdout",
     "output_type": "stream",
     "text": [
      "0    h\n",
      "1    i\n",
      "2    j\n",
      "3    k\n",
      "4    s\n",
      "dtype: object\n"
     ]
    }
   ],
   "source": [
    "import pandas as pd\n",
    " \n",
    "# import numpy as np\n",
    "import numpy as np\n",
    " \n",
    "# simple array\n",
    "data = np.array(['h','i','j','k','s'])\n",
    " \n",
    "ser = pd.Series(data)\n",
    "print(ser)"
   ]
  },
  {
   "cell_type": "markdown",
   "metadata": {},
   "source": [
    "**Creating a series from Lists**"
   ]
  },
  {
   "cell_type": "code",
   "execution_count": 6,
   "metadata": {},
   "outputs": [
    {
     "name": "stdout",
     "output_type": "stream",
     "text": [
      "0    h\n",
      "1    e\n",
      "2    r\n",
      "3    k\n",
      "4    p\n",
      "dtype: object\n"
     ]
    }
   ],
   "source": [
    "import pandas as pd\n",
    " \n",
    "# a simple list\n",
    "list = ['h', 'e', 'r', 'k', 'p']\n",
    "  \n",
    "# create series form a list\n",
    "ser = pd.Series(list)\n",
    "print(ser)"
   ]
  },
  {
   "cell_type": "markdown",
   "metadata": {},
   "source": [
    "### Accessing element of Series\n",
    "\n",
    "**Accessing Element from Series with Position**"
   ]
  },
  {
   "cell_type": "code",
   "execution_count": 8,
   "metadata": {},
   "outputs": [
    {
     "name": "stdout",
     "output_type": "stream",
     "text": [
      "0    a\n",
      "1    d\n",
      "2    f\n",
      "3    k\n",
      "4    s\n",
      "5    t\n",
      "6    u\n",
      "dtype: object\n"
     ]
    }
   ],
   "source": [
    "# import pandas and numpy\n",
    "import pandas as pd\n",
    "import numpy as np\n",
    " \n",
    "# creating simple array\n",
    "data = np.array(['a', 'd', 'f', 'k', 's', 't', 'u', 'e', 'h', 'i', 'm', 'o', 'p'])\n",
    "ser = pd.Series(data)\n",
    "  \n",
    "#retrieve the first element\n",
    "print(ser[:7])"
   ]
  },
  {
   "cell_type": "markdown",
   "metadata": {},
   "source": [
    "**Accessing Element using Label(index)**"
   ]
  },
  {
   "cell_type": "code",
   "execution_count": 10,
   "metadata": {},
   "outputs": [
    {
     "name": "stdout",
     "output_type": "stream",
     "text": [
      "h\n"
     ]
    }
   ],
   "source": [
    "# import pandas and numpy \n",
    "import pandas as pd\n",
    "import numpy as np\n",
    " \n",
    "# creating simple array\n",
    "data = np.array(['b', 'e', 'f', 'g', 'a', 'h', 'o', 'r', 'n', 'e', 'e', 'k', 's'])\n",
    "ser = pd.Series(data,index=[10, 11, 12, 13, 14, 15, 16, 17, 18, 19, 20, 21, 22])\n",
    "  \n",
    "# accessing a element using index element\n",
    "print(ser[15])"
   ]
  },
  {
   "cell_type": "markdown",
   "metadata": {},
   "source": [
    "### Indexing and Selecting Data in series\n",
    "**Indexing a Series using indexing operator []**"
   ]
  },
  {
   "cell_type": "code",
   "execution_count": 20,
   "metadata": {},
   "outputs": [
    {
     "ename": "FileNotFoundError",
     "evalue": "[Errno 2] No such file or directory: 'nba.csv'",
     "output_type": "error",
     "traceback": [
      "\u001b[1;31m---------------------------------------------------------------------------\u001b[0m",
      "\u001b[1;31mFileNotFoundError\u001b[0m                         Traceback (most recent call last)",
      "\u001b[1;32m<ipython-input-20-c257307a88cc>\u001b[0m in \u001b[0;36m<module>\u001b[1;34m\u001b[0m\n\u001b[0;32m      3\u001b[0m \u001b[1;33m\u001b[0m\u001b[0m\n\u001b[0;32m      4\u001b[0m \u001b[1;31m# making data frame\u001b[0m\u001b[1;33m\u001b[0m\u001b[1;33m\u001b[0m\u001b[1;33m\u001b[0m\u001b[0m\n\u001b[1;32m----> 5\u001b[1;33m \u001b[0mdf\u001b[0m \u001b[1;33m=\u001b[0m \u001b[0mpd\u001b[0m\u001b[1;33m.\u001b[0m\u001b[0mread_csv\u001b[0m\u001b[1;33m(\u001b[0m\u001b[1;34m\"nba.csv\"\u001b[0m\u001b[1;33m)\u001b[0m\u001b[1;33m\u001b[0m\u001b[1;33m\u001b[0m\u001b[0m\n\u001b[0m\u001b[0;32m      6\u001b[0m \u001b[1;33m\u001b[0m\u001b[0m\n\u001b[0;32m      7\u001b[0m \u001b[0mser\u001b[0m \u001b[1;33m=\u001b[0m \u001b[0mpd\u001b[0m\u001b[1;33m.\u001b[0m\u001b[0mSeries\u001b[0m\u001b[1;33m(\u001b[0m\u001b[0mdf\u001b[0m\u001b[1;33m[\u001b[0m\u001b[1;34m'Name'\u001b[0m\u001b[1;33m]\u001b[0m\u001b[1;33m)\u001b[0m\u001b[1;33m\u001b[0m\u001b[1;33m\u001b[0m\u001b[0m\n",
      "\u001b[1;32mD:\\anaonda\\lib\\site-packages\\pandas\\io\\parsers.py\u001b[0m in \u001b[0;36mread_csv\u001b[1;34m(filepath_or_buffer, sep, delimiter, header, names, index_col, usecols, squeeze, prefix, mangle_dupe_cols, dtype, engine, converters, true_values, false_values, skipinitialspace, skiprows, skipfooter, nrows, na_values, keep_default_na, na_filter, verbose, skip_blank_lines, parse_dates, infer_datetime_format, keep_date_col, date_parser, dayfirst, cache_dates, iterator, chunksize, compression, thousands, decimal, lineterminator, quotechar, quoting, doublequote, escapechar, comment, encoding, dialect, error_bad_lines, warn_bad_lines, delim_whitespace, low_memory, memory_map, float_precision)\u001b[0m\n\u001b[0;32m    684\u001b[0m     )\n\u001b[0;32m    685\u001b[0m \u001b[1;33m\u001b[0m\u001b[0m\n\u001b[1;32m--> 686\u001b[1;33m     \u001b[1;32mreturn\u001b[0m \u001b[0m_read\u001b[0m\u001b[1;33m(\u001b[0m\u001b[0mfilepath_or_buffer\u001b[0m\u001b[1;33m,\u001b[0m \u001b[0mkwds\u001b[0m\u001b[1;33m)\u001b[0m\u001b[1;33m\u001b[0m\u001b[1;33m\u001b[0m\u001b[0m\n\u001b[0m\u001b[0;32m    687\u001b[0m \u001b[1;33m\u001b[0m\u001b[0m\n\u001b[0;32m    688\u001b[0m \u001b[1;33m\u001b[0m\u001b[0m\n",
      "\u001b[1;32mD:\\anaonda\\lib\\site-packages\\pandas\\io\\parsers.py\u001b[0m in \u001b[0;36m_read\u001b[1;34m(filepath_or_buffer, kwds)\u001b[0m\n\u001b[0;32m    450\u001b[0m \u001b[1;33m\u001b[0m\u001b[0m\n\u001b[0;32m    451\u001b[0m     \u001b[1;31m# Create the parser.\u001b[0m\u001b[1;33m\u001b[0m\u001b[1;33m\u001b[0m\u001b[1;33m\u001b[0m\u001b[0m\n\u001b[1;32m--> 452\u001b[1;33m     \u001b[0mparser\u001b[0m \u001b[1;33m=\u001b[0m \u001b[0mTextFileReader\u001b[0m\u001b[1;33m(\u001b[0m\u001b[0mfp_or_buf\u001b[0m\u001b[1;33m,\u001b[0m \u001b[1;33m**\u001b[0m\u001b[0mkwds\u001b[0m\u001b[1;33m)\u001b[0m\u001b[1;33m\u001b[0m\u001b[1;33m\u001b[0m\u001b[0m\n\u001b[0m\u001b[0;32m    453\u001b[0m \u001b[1;33m\u001b[0m\u001b[0m\n\u001b[0;32m    454\u001b[0m     \u001b[1;32mif\u001b[0m \u001b[0mchunksize\u001b[0m \u001b[1;32mor\u001b[0m \u001b[0miterator\u001b[0m\u001b[1;33m:\u001b[0m\u001b[1;33m\u001b[0m\u001b[1;33m\u001b[0m\u001b[0m\n",
      "\u001b[1;32mD:\\anaonda\\lib\\site-packages\\pandas\\io\\parsers.py\u001b[0m in \u001b[0;36m__init__\u001b[1;34m(self, f, engine, **kwds)\u001b[0m\n\u001b[0;32m    944\u001b[0m             \u001b[0mself\u001b[0m\u001b[1;33m.\u001b[0m\u001b[0moptions\u001b[0m\u001b[1;33m[\u001b[0m\u001b[1;34m\"has_index_names\"\u001b[0m\u001b[1;33m]\u001b[0m \u001b[1;33m=\u001b[0m \u001b[0mkwds\u001b[0m\u001b[1;33m[\u001b[0m\u001b[1;34m\"has_index_names\"\u001b[0m\u001b[1;33m]\u001b[0m\u001b[1;33m\u001b[0m\u001b[1;33m\u001b[0m\u001b[0m\n\u001b[0;32m    945\u001b[0m \u001b[1;33m\u001b[0m\u001b[0m\n\u001b[1;32m--> 946\u001b[1;33m         \u001b[0mself\u001b[0m\u001b[1;33m.\u001b[0m\u001b[0m_make_engine\u001b[0m\u001b[1;33m(\u001b[0m\u001b[0mself\u001b[0m\u001b[1;33m.\u001b[0m\u001b[0mengine\u001b[0m\u001b[1;33m)\u001b[0m\u001b[1;33m\u001b[0m\u001b[1;33m\u001b[0m\u001b[0m\n\u001b[0m\u001b[0;32m    947\u001b[0m \u001b[1;33m\u001b[0m\u001b[0m\n\u001b[0;32m    948\u001b[0m     \u001b[1;32mdef\u001b[0m \u001b[0mclose\u001b[0m\u001b[1;33m(\u001b[0m\u001b[0mself\u001b[0m\u001b[1;33m)\u001b[0m\u001b[1;33m:\u001b[0m\u001b[1;33m\u001b[0m\u001b[1;33m\u001b[0m\u001b[0m\n",
      "\u001b[1;32mD:\\anaonda\\lib\\site-packages\\pandas\\io\\parsers.py\u001b[0m in \u001b[0;36m_make_engine\u001b[1;34m(self, engine)\u001b[0m\n\u001b[0;32m   1176\u001b[0m     \u001b[1;32mdef\u001b[0m \u001b[0m_make_engine\u001b[0m\u001b[1;33m(\u001b[0m\u001b[0mself\u001b[0m\u001b[1;33m,\u001b[0m \u001b[0mengine\u001b[0m\u001b[1;33m=\u001b[0m\u001b[1;34m\"c\"\u001b[0m\u001b[1;33m)\u001b[0m\u001b[1;33m:\u001b[0m\u001b[1;33m\u001b[0m\u001b[1;33m\u001b[0m\u001b[0m\n\u001b[0;32m   1177\u001b[0m         \u001b[1;32mif\u001b[0m \u001b[0mengine\u001b[0m \u001b[1;33m==\u001b[0m \u001b[1;34m\"c\"\u001b[0m\u001b[1;33m:\u001b[0m\u001b[1;33m\u001b[0m\u001b[1;33m\u001b[0m\u001b[0m\n\u001b[1;32m-> 1178\u001b[1;33m             \u001b[0mself\u001b[0m\u001b[1;33m.\u001b[0m\u001b[0m_engine\u001b[0m \u001b[1;33m=\u001b[0m \u001b[0mCParserWrapper\u001b[0m\u001b[1;33m(\u001b[0m\u001b[0mself\u001b[0m\u001b[1;33m.\u001b[0m\u001b[0mf\u001b[0m\u001b[1;33m,\u001b[0m \u001b[1;33m**\u001b[0m\u001b[0mself\u001b[0m\u001b[1;33m.\u001b[0m\u001b[0moptions\u001b[0m\u001b[1;33m)\u001b[0m\u001b[1;33m\u001b[0m\u001b[1;33m\u001b[0m\u001b[0m\n\u001b[0m\u001b[0;32m   1179\u001b[0m         \u001b[1;32melse\u001b[0m\u001b[1;33m:\u001b[0m\u001b[1;33m\u001b[0m\u001b[1;33m\u001b[0m\u001b[0m\n\u001b[0;32m   1180\u001b[0m             \u001b[1;32mif\u001b[0m \u001b[0mengine\u001b[0m \u001b[1;33m==\u001b[0m \u001b[1;34m\"python\"\u001b[0m\u001b[1;33m:\u001b[0m\u001b[1;33m\u001b[0m\u001b[1;33m\u001b[0m\u001b[0m\n",
      "\u001b[1;32mD:\\anaonda\\lib\\site-packages\\pandas\\io\\parsers.py\u001b[0m in \u001b[0;36m__init__\u001b[1;34m(self, src, **kwds)\u001b[0m\n\u001b[0;32m   2006\u001b[0m         \u001b[0mkwds\u001b[0m\u001b[1;33m[\u001b[0m\u001b[1;34m\"usecols\"\u001b[0m\u001b[1;33m]\u001b[0m \u001b[1;33m=\u001b[0m \u001b[0mself\u001b[0m\u001b[1;33m.\u001b[0m\u001b[0musecols\u001b[0m\u001b[1;33m\u001b[0m\u001b[1;33m\u001b[0m\u001b[0m\n\u001b[0;32m   2007\u001b[0m \u001b[1;33m\u001b[0m\u001b[0m\n\u001b[1;32m-> 2008\u001b[1;33m         \u001b[0mself\u001b[0m\u001b[1;33m.\u001b[0m\u001b[0m_reader\u001b[0m \u001b[1;33m=\u001b[0m \u001b[0mparsers\u001b[0m\u001b[1;33m.\u001b[0m\u001b[0mTextReader\u001b[0m\u001b[1;33m(\u001b[0m\u001b[0msrc\u001b[0m\u001b[1;33m,\u001b[0m \u001b[1;33m**\u001b[0m\u001b[0mkwds\u001b[0m\u001b[1;33m)\u001b[0m\u001b[1;33m\u001b[0m\u001b[1;33m\u001b[0m\u001b[0m\n\u001b[0m\u001b[0;32m   2009\u001b[0m         \u001b[0mself\u001b[0m\u001b[1;33m.\u001b[0m\u001b[0munnamed_cols\u001b[0m \u001b[1;33m=\u001b[0m \u001b[0mself\u001b[0m\u001b[1;33m.\u001b[0m\u001b[0m_reader\u001b[0m\u001b[1;33m.\u001b[0m\u001b[0munnamed_cols\u001b[0m\u001b[1;33m\u001b[0m\u001b[1;33m\u001b[0m\u001b[0m\n\u001b[0;32m   2010\u001b[0m \u001b[1;33m\u001b[0m\u001b[0m\n",
      "\u001b[1;32mpandas\\_libs\\parsers.pyx\u001b[0m in \u001b[0;36mpandas._libs.parsers.TextReader.__cinit__\u001b[1;34m()\u001b[0m\n",
      "\u001b[1;32mpandas\\_libs\\parsers.pyx\u001b[0m in \u001b[0;36mpandas._libs.parsers.TextReader._setup_parser_source\u001b[1;34m()\u001b[0m\n",
      "\u001b[1;31mFileNotFoundError\u001b[0m: [Errno 2] No such file or directory: 'nba.csv'"
     ]
    }
   ],
   "source": [
    "# importing pandas module  \n",
    "import pandas as pd  \n",
    "     \n",
    "# making data frame  \n",
    "df = pd.read_csv(\"nba.csv\")  \n",
    "   \n",
    "ser = pd.Series(df['Name']) \n",
    "data = ser.head(10)\n",
    "data"
   ]
  },
  {
   "cell_type": "markdown",
   "metadata": {},
   "source": [
    "### Binary Opeaion on Series\n",
    "**Example**"
   ]
  },
  {
   "cell_type": "code",
   "execution_count": 17,
   "metadata": {},
   "outputs": [
    {
     "name": "stdout",
     "output_type": "stream",
     "text": [
      "a    5\n",
      "g    4\n",
      "c    3\n",
      "e    6\n",
      "dtype: int64 \n",
      "\n",
      " a    1\n",
      "f    6\n",
      "d    5\n",
      "e    9\n",
      "dtype: int64\n"
     ]
    }
   ],
   "source": [
    "# importing pandas module  \n",
    "import pandas as pd  \n",
    " \n",
    "# creating a series\n",
    "data = pd.Series([5, 4, 3,6], index=['a', 'g', 'c', 'e'])\n",
    " \n",
    "# creating a series\n",
    "data1 = pd.Series([1, 6, 5, 9], index=['a', 'f', 'd', 'e'])\n",
    " \n",
    "print(data, \"\\n\\n\", data1)"
   ]
  },
  {
   "cell_type": "markdown",
   "metadata": {},
   "source": [
    "**Example 2**"
   ]
  },
  {
   "cell_type": "code",
   "execution_count": 18,
   "metadata": {},
   "outputs": [
    {
     "name": "stdout",
     "output_type": "stream",
     "text": [
      "a    5\n",
      "b    2\n",
      "c    3\n",
      "d    7\n",
      "dtype: int64 \n",
      "\n",
      " a    1\n",
      "b    6\n",
      "d    4\n",
      "e    9\n",
      "dtype: int64\n"
     ]
    }
   ],
   "source": [
    "# importing pandas module  \n",
    "import pandas as pd  \n",
    " \n",
    "# creating a series\n",
    "data = pd.Series([5, 2, 3,7], index=['a', 'b', 'c', 'd'])\n",
    " \n",
    "# creating a series\n",
    "data1 = pd.Series([1, 6, 4, 9], index=['a', 'b', 'd', 'e'])\n",
    " \n",
    "print(data, \"\\n\\n\", data1)"
   ]
  },
  {
   "cell_type": "markdown",
   "metadata": {},
   "source": [
    "### Conversion Operation on Series\n",
    "**Example**"
   ]
  },
  {
   "cell_type": "code",
   "execution_count": 19,
   "metadata": {},
   "outputs": [
    {
     "ename": "FileNotFoundError",
     "evalue": "[Errno 2] No such file or directory: 'nba.csv'",
     "output_type": "error",
     "traceback": [
      "\u001b[1;31m---------------------------------------------------------------------------\u001b[0m",
      "\u001b[1;31mFileNotFoundError\u001b[0m                         Traceback (most recent call last)",
      "\u001b[1;32m<ipython-input-19-a6da1fd97bea>\u001b[0m in \u001b[0;36m<module>\u001b[1;34m\u001b[0m\n\u001b[0;32m      3\u001b[0m \u001b[1;33m\u001b[0m\u001b[0m\n\u001b[0;32m      4\u001b[0m \u001b[1;31m# reading csv file from url\u001b[0m\u001b[1;33m\u001b[0m\u001b[1;33m\u001b[0m\u001b[1;33m\u001b[0m\u001b[0m\n\u001b[1;32m----> 5\u001b[1;33m \u001b[0mdata\u001b[0m \u001b[1;33m=\u001b[0m \u001b[0mpd\u001b[0m\u001b[1;33m.\u001b[0m\u001b[0mread_csv\u001b[0m\u001b[1;33m(\u001b[0m\u001b[1;34m\"nba.csv\"\u001b[0m\u001b[1;33m)\u001b[0m\u001b[1;33m\u001b[0m\u001b[1;33m\u001b[0m\u001b[0m\n\u001b[0m\u001b[0;32m      6\u001b[0m \u001b[1;33m\u001b[0m\u001b[0m\n\u001b[0;32m      7\u001b[0m \u001b[1;31m# dropping null value columns to avoid errors\u001b[0m\u001b[1;33m\u001b[0m\u001b[1;33m\u001b[0m\u001b[1;33m\u001b[0m\u001b[0m\n",
      "\u001b[1;32mD:\\anaonda\\lib\\site-packages\\pandas\\io\\parsers.py\u001b[0m in \u001b[0;36mread_csv\u001b[1;34m(filepath_or_buffer, sep, delimiter, header, names, index_col, usecols, squeeze, prefix, mangle_dupe_cols, dtype, engine, converters, true_values, false_values, skipinitialspace, skiprows, skipfooter, nrows, na_values, keep_default_na, na_filter, verbose, skip_blank_lines, parse_dates, infer_datetime_format, keep_date_col, date_parser, dayfirst, cache_dates, iterator, chunksize, compression, thousands, decimal, lineterminator, quotechar, quoting, doublequote, escapechar, comment, encoding, dialect, error_bad_lines, warn_bad_lines, delim_whitespace, low_memory, memory_map, float_precision)\u001b[0m\n\u001b[0;32m    684\u001b[0m     )\n\u001b[0;32m    685\u001b[0m \u001b[1;33m\u001b[0m\u001b[0m\n\u001b[1;32m--> 686\u001b[1;33m     \u001b[1;32mreturn\u001b[0m \u001b[0m_read\u001b[0m\u001b[1;33m(\u001b[0m\u001b[0mfilepath_or_buffer\u001b[0m\u001b[1;33m,\u001b[0m \u001b[0mkwds\u001b[0m\u001b[1;33m)\u001b[0m\u001b[1;33m\u001b[0m\u001b[1;33m\u001b[0m\u001b[0m\n\u001b[0m\u001b[0;32m    687\u001b[0m \u001b[1;33m\u001b[0m\u001b[0m\n\u001b[0;32m    688\u001b[0m \u001b[1;33m\u001b[0m\u001b[0m\n",
      "\u001b[1;32mD:\\anaonda\\lib\\site-packages\\pandas\\io\\parsers.py\u001b[0m in \u001b[0;36m_read\u001b[1;34m(filepath_or_buffer, kwds)\u001b[0m\n\u001b[0;32m    450\u001b[0m \u001b[1;33m\u001b[0m\u001b[0m\n\u001b[0;32m    451\u001b[0m     \u001b[1;31m# Create the parser.\u001b[0m\u001b[1;33m\u001b[0m\u001b[1;33m\u001b[0m\u001b[1;33m\u001b[0m\u001b[0m\n\u001b[1;32m--> 452\u001b[1;33m     \u001b[0mparser\u001b[0m \u001b[1;33m=\u001b[0m \u001b[0mTextFileReader\u001b[0m\u001b[1;33m(\u001b[0m\u001b[0mfp_or_buf\u001b[0m\u001b[1;33m,\u001b[0m \u001b[1;33m**\u001b[0m\u001b[0mkwds\u001b[0m\u001b[1;33m)\u001b[0m\u001b[1;33m\u001b[0m\u001b[1;33m\u001b[0m\u001b[0m\n\u001b[0m\u001b[0;32m    453\u001b[0m \u001b[1;33m\u001b[0m\u001b[0m\n\u001b[0;32m    454\u001b[0m     \u001b[1;32mif\u001b[0m \u001b[0mchunksize\u001b[0m \u001b[1;32mor\u001b[0m \u001b[0miterator\u001b[0m\u001b[1;33m:\u001b[0m\u001b[1;33m\u001b[0m\u001b[1;33m\u001b[0m\u001b[0m\n",
      "\u001b[1;32mD:\\anaonda\\lib\\site-packages\\pandas\\io\\parsers.py\u001b[0m in \u001b[0;36m__init__\u001b[1;34m(self, f, engine, **kwds)\u001b[0m\n\u001b[0;32m    944\u001b[0m             \u001b[0mself\u001b[0m\u001b[1;33m.\u001b[0m\u001b[0moptions\u001b[0m\u001b[1;33m[\u001b[0m\u001b[1;34m\"has_index_names\"\u001b[0m\u001b[1;33m]\u001b[0m \u001b[1;33m=\u001b[0m \u001b[0mkwds\u001b[0m\u001b[1;33m[\u001b[0m\u001b[1;34m\"has_index_names\"\u001b[0m\u001b[1;33m]\u001b[0m\u001b[1;33m\u001b[0m\u001b[1;33m\u001b[0m\u001b[0m\n\u001b[0;32m    945\u001b[0m \u001b[1;33m\u001b[0m\u001b[0m\n\u001b[1;32m--> 946\u001b[1;33m         \u001b[0mself\u001b[0m\u001b[1;33m.\u001b[0m\u001b[0m_make_engine\u001b[0m\u001b[1;33m(\u001b[0m\u001b[0mself\u001b[0m\u001b[1;33m.\u001b[0m\u001b[0mengine\u001b[0m\u001b[1;33m)\u001b[0m\u001b[1;33m\u001b[0m\u001b[1;33m\u001b[0m\u001b[0m\n\u001b[0m\u001b[0;32m    947\u001b[0m \u001b[1;33m\u001b[0m\u001b[0m\n\u001b[0;32m    948\u001b[0m     \u001b[1;32mdef\u001b[0m \u001b[0mclose\u001b[0m\u001b[1;33m(\u001b[0m\u001b[0mself\u001b[0m\u001b[1;33m)\u001b[0m\u001b[1;33m:\u001b[0m\u001b[1;33m\u001b[0m\u001b[1;33m\u001b[0m\u001b[0m\n",
      "\u001b[1;32mD:\\anaonda\\lib\\site-packages\\pandas\\io\\parsers.py\u001b[0m in \u001b[0;36m_make_engine\u001b[1;34m(self, engine)\u001b[0m\n\u001b[0;32m   1176\u001b[0m     \u001b[1;32mdef\u001b[0m \u001b[0m_make_engine\u001b[0m\u001b[1;33m(\u001b[0m\u001b[0mself\u001b[0m\u001b[1;33m,\u001b[0m \u001b[0mengine\u001b[0m\u001b[1;33m=\u001b[0m\u001b[1;34m\"c\"\u001b[0m\u001b[1;33m)\u001b[0m\u001b[1;33m:\u001b[0m\u001b[1;33m\u001b[0m\u001b[1;33m\u001b[0m\u001b[0m\n\u001b[0;32m   1177\u001b[0m         \u001b[1;32mif\u001b[0m \u001b[0mengine\u001b[0m \u001b[1;33m==\u001b[0m \u001b[1;34m\"c\"\u001b[0m\u001b[1;33m:\u001b[0m\u001b[1;33m\u001b[0m\u001b[1;33m\u001b[0m\u001b[0m\n\u001b[1;32m-> 1178\u001b[1;33m             \u001b[0mself\u001b[0m\u001b[1;33m.\u001b[0m\u001b[0m_engine\u001b[0m \u001b[1;33m=\u001b[0m \u001b[0mCParserWrapper\u001b[0m\u001b[1;33m(\u001b[0m\u001b[0mself\u001b[0m\u001b[1;33m.\u001b[0m\u001b[0mf\u001b[0m\u001b[1;33m,\u001b[0m \u001b[1;33m**\u001b[0m\u001b[0mself\u001b[0m\u001b[1;33m.\u001b[0m\u001b[0moptions\u001b[0m\u001b[1;33m)\u001b[0m\u001b[1;33m\u001b[0m\u001b[1;33m\u001b[0m\u001b[0m\n\u001b[0m\u001b[0;32m   1179\u001b[0m         \u001b[1;32melse\u001b[0m\u001b[1;33m:\u001b[0m\u001b[1;33m\u001b[0m\u001b[1;33m\u001b[0m\u001b[0m\n\u001b[0;32m   1180\u001b[0m             \u001b[1;32mif\u001b[0m \u001b[0mengine\u001b[0m \u001b[1;33m==\u001b[0m \u001b[1;34m\"python\"\u001b[0m\u001b[1;33m:\u001b[0m\u001b[1;33m\u001b[0m\u001b[1;33m\u001b[0m\u001b[0m\n",
      "\u001b[1;32mD:\\anaonda\\lib\\site-packages\\pandas\\io\\parsers.py\u001b[0m in \u001b[0;36m__init__\u001b[1;34m(self, src, **kwds)\u001b[0m\n\u001b[0;32m   2006\u001b[0m         \u001b[0mkwds\u001b[0m\u001b[1;33m[\u001b[0m\u001b[1;34m\"usecols\"\u001b[0m\u001b[1;33m]\u001b[0m \u001b[1;33m=\u001b[0m \u001b[0mself\u001b[0m\u001b[1;33m.\u001b[0m\u001b[0musecols\u001b[0m\u001b[1;33m\u001b[0m\u001b[1;33m\u001b[0m\u001b[0m\n\u001b[0;32m   2007\u001b[0m \u001b[1;33m\u001b[0m\u001b[0m\n\u001b[1;32m-> 2008\u001b[1;33m         \u001b[0mself\u001b[0m\u001b[1;33m.\u001b[0m\u001b[0m_reader\u001b[0m \u001b[1;33m=\u001b[0m \u001b[0mparsers\u001b[0m\u001b[1;33m.\u001b[0m\u001b[0mTextReader\u001b[0m\u001b[1;33m(\u001b[0m\u001b[0msrc\u001b[0m\u001b[1;33m,\u001b[0m \u001b[1;33m**\u001b[0m\u001b[0mkwds\u001b[0m\u001b[1;33m)\u001b[0m\u001b[1;33m\u001b[0m\u001b[1;33m\u001b[0m\u001b[0m\n\u001b[0m\u001b[0;32m   2009\u001b[0m         \u001b[0mself\u001b[0m\u001b[1;33m.\u001b[0m\u001b[0munnamed_cols\u001b[0m \u001b[1;33m=\u001b[0m \u001b[0mself\u001b[0m\u001b[1;33m.\u001b[0m\u001b[0m_reader\u001b[0m\u001b[1;33m.\u001b[0m\u001b[0munnamed_cols\u001b[0m\u001b[1;33m\u001b[0m\u001b[1;33m\u001b[0m\u001b[0m\n\u001b[0;32m   2010\u001b[0m \u001b[1;33m\u001b[0m\u001b[0m\n",
      "\u001b[1;32mpandas\\_libs\\parsers.pyx\u001b[0m in \u001b[0;36mpandas._libs.parsers.TextReader.__cinit__\u001b[1;34m()\u001b[0m\n",
      "\u001b[1;32mpandas\\_libs\\parsers.pyx\u001b[0m in \u001b[0;36mpandas._libs.parsers.TextReader._setup_parser_source\u001b[1;34m()\u001b[0m\n",
      "\u001b[1;31mFileNotFoundError\u001b[0m: [Errno 2] No such file or directory: 'nba.csv'"
     ]
    }
   ],
   "source": [
    "# importing pandas module  \n",
    "import pandas as pd \n",
    "   \n",
    "# reading csv file from url  \n",
    "data = pd.read_csv(\"nba.csv\") \n",
    "    \n",
    "# dropping null value columns to avoid errors \n",
    "data.dropna(inplace = True) \n",
    "   \n",
    "# storing dtype before converting \n",
    "before = data.dtypes \n",
    "   \n",
    "# converting dtypes using astype \n",
    "data[\"Salary\"]= data[\"Salary\"].astype(int) \n",
    "data[\"Number\"]= data[\"Number\"].astype(str) \n",
    "   \n",
    "# storing dtype after converting \n",
    "after = data.dtypes \n",
    "   \n",
    "# printing to compare \n",
    "print(\"BEFORE CONVERSION\\n\", before, \"\\n\") \n",
    "print(\"AFTER CONVERSION\\n\", after, \"\\n\")"
   ]
  },
  {
   "cell_type": "markdown",
   "metadata": {},
   "source": [
    "**Indexing a Series using .loc[]**"
   ]
  },
  {
   "cell_type": "code",
   "execution_count": 28,
   "metadata": {},
   "outputs": [
    {
     "data": {
      "text/plain": [
       "0    Avery Bradley\n",
       "1      Jae Crowder\n",
       "2     John Holland\n",
       "3      R.J. Hunter\n",
       "4    Jonas Jerebko\n",
       "5     Amir Johnson\n",
       "6    Jordan Mickey\n",
       "7     Kelly Olynyk\n",
       "8     Terry Rozier\n",
       "9     Marcus Smart\n",
       "Name: Name, dtype: object"
      ]
     },
     "execution_count": 28,
     "metadata": {},
     "output_type": "execute_result"
    }
   ],
   "source": [
    "# importing pandas module  \n",
    "import pandas as pd  \n",
    "     \n",
    "# making data frame  \n",
    "df = pd.read_csv(\"https://raw.githubusercontent.com/sivabalanb/Data-Analysis-with-Pandas-and-Python/master/nba.csv\")  \n",
    "   \n",
    "ser = pd.Series(df['Name']) \n",
    "data = ser.head(10)\n",
    "data"
   ]
  },
  {
   "cell_type": "markdown",
   "metadata": {},
   "source": [
    "**Indexing a Series using .iloc[]**"
   ]
  },
  {
   "cell_type": "code",
   "execution_count": 25,
   "metadata": {},
   "outputs": [
    {
     "data": {
      "text/plain": [
       "0    Avery Bradley\n",
       "1      Jae Crowder\n",
       "2     John Holland\n",
       "3      R.J. Hunter\n",
       "4    Jonas Jerebko\n",
       "5     Amir Johnson\n",
       "6    Jordan Mickey\n",
       "7     Kelly Olynyk\n",
       "8     Terry Rozier\n",
       "9     Marcus Smart\n",
       "Name: Name, dtype: object"
      ]
     },
     "execution_count": 25,
     "metadata": {},
     "output_type": "execute_result"
    }
   ],
   "source": [
    "# importing pandas module  \n",
    "import pandas as pd  \n",
    "     \n",
    "# making data frame  \n",
    "df = pd.read_csv(\"https://raw.githubusercontent.com/sivabalanb/Data-Analysis-with-Pandas-and-Python/master/nba.csv\")  \n",
    "   \n",
    "ser = pd.Series(df['Name']) \n",
    "data = ser.head(10)\n",
    "data"
   ]
  },
  {
   "cell_type": "markdown",
   "metadata": {},
   "source": [
    "**Example 2**"
   ]
  },
  {
   "cell_type": "code",
   "execution_count": 29,
   "metadata": {},
   "outputs": [
    {
     "name": "stdout",
     "output_type": "stream",
     "text": [
      "Data type before converting = <class 'pandas.core.series.Series'>\n",
      "Data type after converting = <class 'list'>\n"
     ]
    },
    {
     "data": {
      "text/plain": [
       "[7730337.0,\n",
       " 6796117.0,\n",
       " 1148640.0,\n",
       " 1170960.0,\n",
       " 2165160.0,\n",
       " 1824360.0,\n",
       " 3431040.0,\n",
       " 2569260.0,\n",
       " 6912869.0,\n",
       " 3425510.0,\n",
       " 1749840.0,\n",
       " 2616975.0,\n",
       " 845059.0,\n",
       " 1500000.0,\n",
       " 1335480.0,\n",
       " 6300000.0,\n",
       " 134215.0,\n",
       " 1500000.0,\n",
       " 19689000.0,\n",
       " 1140240.0,\n",
       " 947276.0,\n",
       " 981348.0,\n",
       " 947276.0,\n",
       " 947276.0,\n",
       " 11235955.0,\n",
       " 8000000.0,\n",
       " 1635476.0,\n",
       " 22875000.0,\n",
       " 845059.0,\n",
       " 845059.0,\n",
       " 1572360.0,\n",
       " 12650000.0,\n",
       " 3750000.0,\n",
       " 1636842.0,\n",
       " 4000000.0,\n",
       " 167406.0,\n",
       " 947276.0,\n",
       " 1000000.0,\n",
       " 4626960.0,\n",
       " 845059.0,\n",
       " 1074169.0,\n",
       " 6500000.0,\n",
       " 2144772.0,\n",
       " 525093.0,\n",
       " 3457800.0,\n",
       " 4582680.0,\n",
       " 947276.0,\n",
       " 2869440.0,\n",
       " 947276.0,\n",
       " 525093.0,\n",
       " 13600000.0,\n",
       " 10050000.0,\n",
       " 2500000.0,\n",
       " 7000000.0,\n",
       " 12000000.0,\n",
       " 6268675.0,\n",
       " 650000.0,\n",
       " 3553917.0,\n",
       " 245177.0,\n",
       " 1509360.0,\n",
       " 3873398.0,\n",
       " 13800000.0,\n",
       " 947276.0,\n",
       " 11370786.0,\n",
       " 2008748.0,\n",
       " 14260870.0,\n",
       " 11710456.0,\n",
       " 1131960.0,\n",
       " 845059.0,\n",
       " 1270964.0,\n",
       " 3815000.0,\n",
       " 15501000.0,\n",
       " 1100602.0,\n",
       " 111444.0,\n",
       " 5675000.0,\n",
       " 525093.0,\n",
       " 9650000.0,\n",
       " 18907726.0,\n",
       " 1100602.0,\n",
       " 19689000.0,\n",
       " 947276.0,\n",
       " 21468695.0,\n",
       " 3376000.0,\n",
       " 7085000.0,\n",
       " 3110796.0,\n",
       " 1159680.0,\n",
       " 3000000.0,\n",
       " 845059.0,\n",
       " 700000.0,\n",
       " 845059.0,\n",
       " 15592217.0,\n",
       " 1724250.0,\n",
       " 1155600.0,\n",
       " 3132240.0,\n",
       " 5103120.0,\n",
       " 981348.0,\n",
       " 947276.0,\n",
       " 5219169.0,\n",
       " 13500000.0,\n",
       " 2127840.0,\n",
       " 206192.0,\n",
       " 1160160.0,\n",
       " 981348.0,\n",
       " 13500000.0,\n",
       " 3807120.0,\n",
       " 1035000.0,\n",
       " 55722.0,\n",
       " 947276.0,\n",
       " 5500000.0,\n",
       " 2041080.0,\n",
       " 83397.0,\n",
       " 981348.0,\n",
       " 1015421.0,\n",
       " 1449187.0,\n",
       " 3398280.0,\n",
       " 5013559.0,\n",
       " 15851950.0,\n",
       " 947276.0,\n",
       " 525093.0,\n",
       " 12403101.0,\n",
       " 7700000.0,\n",
       " 3156600.0,\n",
       " 845059.0,\n",
       " 9500000.0,\n",
       " 845059.0,\n",
       " 2250000.0,\n",
       " 16407500.0,\n",
       " 4500000.0,\n",
       " 8500000.0,\n",
       " 947276.0,\n",
       " 2380440.0,\n",
       " 1015421.0,\n",
       " 13400000.0,\n",
       " 1391160.0,\n",
       " 20093064.0,\n",
       " 1535880.0,\n",
       " 1147276.0,\n",
       " 8193029.0,\n",
       " 16407501.0,\n",
       " 947276.0,\n",
       " 947276.0,\n",
       " 1276000.0,\n",
       " 19689000.0,\n",
       " 111196.0,\n",
       " 8988765.0,\n",
       " 14260870.0,\n",
       " 2100000.0,\n",
       " 2500000.0,\n",
       " 6500000.0,\n",
       " 2170465.0,\n",
       " 111444.0,\n",
       " 1252440.0,\n",
       " 2891760.0,\n",
       " 845059.0,\n",
       " 3272091.0,\n",
       " 16000000.0,\n",
       " 600000.0,\n",
       " 13913044.0,\n",
       " 2841960.0,\n",
       " 6270000.0,\n",
       " 5000000.0,\n",
       " 3000000.0,\n",
       " 4050000.0,\n",
       " 1007026.0,\n",
       " 17120106.0,\n",
       " 8000000.0,\n",
       " 4000000.0,\n",
       " 1358880.0,\n",
       " 211744.0,\n",
       " 1100000.0,\n",
       " 7000000.0,\n",
       " 2357760.0,\n",
       " 845059.0,\n",
       " 1007026.0,\n",
       " 3000000.0,\n",
       " 2399040.0,\n",
       " 947276.0,\n",
       " 1662360.0,\n",
       " 2943221.0,\n",
       " 8000000.0,\n",
       " 14700000.0,\n",
       " 16407500.0,\n",
       " 295327.0,\n",
       " 845059.0,\n",
       " 5152440.0,\n",
       " 2109294.0,\n",
       " 6600000.0,\n",
       " 1733040.0,\n",
       " 1449000.0,\n",
       " 4290000.0,\n",
       " 1100602.0,\n",
       " 3950313.0,\n",
       " 4053446.0,\n",
       " 2085671.0,\n",
       " 16407500.0,\n",
       " 1270964.0,\n",
       " 15361500.0,\n",
       " 845059.0,\n",
       " 947276.0,\n",
       " 5378974.0,\n",
       " 8193030.0,\n",
       " 306527.0,\n",
       " 6486486.0,\n",
       " 8229375.0,\n",
       " 1646400.0,\n",
       " 200600.0,\n",
       " 15756438.0,\n",
       " 1000000.0,\n",
       " 2489530.0,\n",
       " 3189794.0,\n",
       " 947276.0,\n",
       " 1404600.0,\n",
       " 5158539.0,\n",
       " 5000000.0,\n",
       " 3542500.0,\n",
       " 4088019.0,\n",
       " 9588426.0,\n",
       " 700902.0,\n",
       " 845059.0,\n",
       " 1201440.0,\n",
       " 1230840.0,\n",
       " 9638555.0,\n",
       " 9000000.0,\n",
       " 5464000.0,\n",
       " 8500000.0,\n",
       " 1100602.0,\n",
       " 3036927.0,\n",
       " 2850000.0,\n",
       " 7070730.0,\n",
       " 169883.0,\n",
       " 1164858.0,\n",
       " 845059.0,\n",
       " 10734586.0,\n",
       " 845059.0,\n",
       " 1320000.0,\n",
       " 15514031.0,\n",
       " 1015421.0,\n",
       " 10595507.0,\n",
       " 55722.0,\n",
       " 3382023.0,\n",
       " 19689000.0,\n",
       " 1142880.0,\n",
       " 947276.0,\n",
       " 5250000.0,\n",
       " 10000000.0,\n",
       " 16407500.0,\n",
       " 200600.0,\n",
       " 250750.0,\n",
       " 3578947.0,\n",
       " 525093.0,\n",
       " 1499187.0,\n",
       " 2000000.0,\n",
       " 1304520.0,\n",
       " 2854940.0,\n",
       " 12000000.0,\n",
       " 1000000.0,\n",
       " 5746479.0,\n",
       " 18671659.0,\n",
       " 947276.0,\n",
       " 525093.0,\n",
       " 3333333.0,\n",
       " 8000000.0,\n",
       " 947276.0,\n",
       " 189455.0,\n",
       " 947276.0,\n",
       " 525093.0,\n",
       " 6110034.0,\n",
       " 2612520.0,\n",
       " 6331404.0,\n",
       " 3034356.0,\n",
       " 5675000.0,\n",
       " 2139000.0,\n",
       " 12000000.0,\n",
       " 7000000.0,\n",
       " 4204200.0,\n",
       " 22192730.0,\n",
       " 10151612.0,\n",
       " 2854940.0,\n",
       " 261894.0,\n",
       " 845059.0,\n",
       " 5543725.0,\n",
       " 525093.0,\n",
       " 20000000.0,\n",
       " 981348.0,\n",
       " 2481720.0,\n",
       " 947276.0,\n",
       " 4171680.0,\n",
       " 845059.0,\n",
       " 1294440.0,\n",
       " 2380593.0,\n",
       " 5192520.0,\n",
       " 2505720.0,\n",
       " 4300000.0,\n",
       " 11250000.0,\n",
       " 5000000.0,\n",
       " 4000000.0,\n",
       " 5694674.0,\n",
       " 4375000.0,\n",
       " 561716.0,\n",
       " 3300000.0,\n",
       " 273038.0,\n",
       " 8000000.0,\n",
       " 1920240.0,\n",
       " 4662960.0,\n",
       " 2170465.0,\n",
       " 1100602.0,\n",
       " 200600.0,\n",
       " 15851950.0,\n",
       " 2814000.0,\n",
       " 3000000.0,\n",
       " 3533333.0,\n",
       " 10449438.0,\n",
       " 11235955.0,\n",
       " 1584480.0,\n",
       " 947276.0,\n",
       " 4345000.0,\n",
       " 258489.0,\n",
       " 1474440.0,\n",
       " 1282080.0,\n",
       " 2148360.0,\n",
       " 2056920.0,\n",
       " 1938840.0,\n",
       " 947276.0,\n",
       " 5703600.0,\n",
       " 5758680.0,\n",
       " 2279040.0,\n",
       " 3750000.0,\n",
       " 20158622.0,\n",
       " 3135000.0,\n",
       " 1140240.0,\n",
       " 16407500.0,\n",
       " 1463040.0,\n",
       " 222888.0,\n",
       " 3344000.0,\n",
       " 2021520.0,\n",
       " 1210800.0,\n",
       " 4500000.0,\n",
       " 5138430.0,\n",
       " 16744218.0,\n",
       " 525093.0,\n",
       " 8042895.0,\n",
       " 625093.0,\n",
       " 947276.0,\n",
       " 6980802.0,\n",
       " 2894059.0,\n",
       " 6000000.0,\n",
       " 5016000.0,\n",
       " 3075880.0,\n",
       " 4236287.0,\n",
       " 2525160.0,\n",
       " 525093.0,\n",
       " 1415520.0,\n",
       " 2854940.0,\n",
       " 2637720.0,\n",
       " 4775000.0,\n",
       " 2658240.0,\n",
       " 9463484.0,\n",
       " 12000000.0,\n",
       " 15409570.0,\n",
       " 1348440.0,\n",
       " 981348.0,\n",
       " 2239800.0,\n",
       " 2433333.0,\n",
       " 947276.0]"
      ]
     },
     "execution_count": 29,
     "metadata": {},
     "output_type": "execute_result"
    }
   ],
   "source": [
    "# importing pandas module  \n",
    "import pandas as pd  \n",
    "   \n",
    "# importing regex module \n",
    "import re \n",
    "     \n",
    "# making data frame  \n",
    "data = pd.read_csv(\"https://raw.githubusercontent.com/sivabalanb/Data-Analysis-with-Pandas-and-Python/master/nba.csv\")    \n",
    "     \n",
    "# removing null values to avoid errors  \n",
    "data.dropna(inplace = True)  \n",
    "   \n",
    "# storing dtype before operation \n",
    "dtype_before = type(data[\"Salary\"]) \n",
    "   \n",
    "# converting to list \n",
    "salary_list = data[\"Salary\"].tolist() \n",
    "   \n",
    "# storing dtype after operation \n",
    "dtype_after = type(salary_list) \n",
    "   \n",
    "# printing dtype \n",
    "print(\"Data type before converting = {}\\nData type after converting = {}\"\n",
    "      .format(dtype_before, dtype_after)) \n",
    "   \n",
    "# displaying list \n",
    "salary_list"
   ]
  },
  {
   "cell_type": "markdown",
   "metadata": {},
   "source": [
    "### Pandas DataFrame\n",
    "#### Creating a Pandas DataFrame\n",
    "**Creating a dataframe using List**\n"
   ]
  },
  {
   "cell_type": "code",
   "execution_count": 30,
   "metadata": {},
   "outputs": [
    {
     "name": "stdout",
     "output_type": "stream",
     "text": [
      "           0\n",
      "0  DevIncept\n",
      "1         is\n",
      "2       Very\n",
      "3       Good\n",
      "4   Platform\n",
      "5        for\n",
      "6         Us\n"
     ]
    }
   ],
   "source": [
    "# import pandas as pd\n",
    "import pandas as pd\n",
    " \n",
    "# list of strings\n",
    "lst = ['DevIncept', 'is', 'Very', 'Good', 'Platform', 'for', 'Us']\n",
    " \n",
    "# Calling DataFrame constructor on list\n",
    "df = pd.DataFrame(lst)\n",
    "print(df)"
   ]
  },
  {
   "cell_type": "markdown",
   "metadata": {},
   "source": [
    "**Creating DataFrame from dict of narray/lists**"
   ]
  },
  {
   "cell_type": "code",
   "execution_count": 31,
   "metadata": {},
   "outputs": [
    {
     "name": "stdout",
     "output_type": "stream",
     "text": [
      "      Name  Age\n",
      "0      Tom   20\n",
      "1    nicky   21\n",
      "2  krishna   19\n",
      "3  jackson   18\n"
     ]
    }
   ],
   "source": [
    "import pandas as pd\n",
    " \n",
    "# intialise data of lists.\n",
    "data = {'Name':['Tom', 'nicky', 'krishna', 'jackson'], 'Age':[20, 21, 19, 18]}\n",
    " \n",
    "# Create DataFrame\n",
    "df = pd.DataFrame(data)\n",
    " \n",
    "# Print the output.\n",
    "print(df)"
   ]
  },
  {
   "cell_type": "markdown",
   "metadata": {},
   "source": [
    "#### Dealing with Rows and Columns\n",
    "**Column Selection**"
   ]
  },
  {
   "cell_type": "code",
   "execution_count": 32,
   "metadata": {},
   "outputs": [
    {
     "name": "stdout",
     "output_type": "stream",
     "text": [
      "     Name Qualification\n",
      "0  Shapra           Msc\n",
      "1  Princi            BA\n",
      "2   Geeta           MCA\n",
      "3  Roshni           Phd\n"
     ]
    }
   ],
   "source": [
    "# Import pandas package\n",
    "import pandas as pd\n",
    " \n",
    "# Define a dictionary containing employee data\n",
    "data = {'Name':['Shapra', 'Princi', 'Geeta', 'Roshni'], 'Age':[27, 24, 22, 32], 'Address':['Delhi', 'Kanpur', 'Allahabad', 'Bihar'],\n",
    "        'Qualification':['Msc', 'BA', 'MCA', 'Phd']}\n",
    " \n",
    "# Convert the dictionary into DataFrame \n",
    "df = pd.DataFrame(data)\n",
    " \n",
    "# select two columns\n",
    "print(df[['Name', 'Qualification']])"
   ]
  },
  {
   "cell_type": "markdown",
   "metadata": {},
   "source": [
    "**Row Selection**"
   ]
  },
  {
   "cell_type": "code",
   "execution_count": 34,
   "metadata": {},
   "outputs": [
    {
     "name": "stdout",
     "output_type": "stream",
     "text": [
      "Team        Boston Celtics\n",
      "Number                   0\n",
      "Position                PG\n",
      "Age                     25\n",
      "Height                 6-2\n",
      "Weight                 180\n",
      "College              Texas\n",
      "Salary         7.73034e+06\n",
      "Name: Avery Bradley, dtype: object \n",
      "\n",
      "\n",
      " Team        Boston Celtics\n",
      "Number                  28\n",
      "Position                SG\n",
      "Age                     22\n",
      "Height                 6-5\n",
      "Weight                 185\n",
      "College      Georgia State\n",
      "Salary         1.14864e+06\n",
      "Name: R.J. Hunter, dtype: object\n"
     ]
    }
   ],
   "source": [
    "# importing pandas package\n",
    "import pandas as pd\n",
    " \n",
    "# making data frame from csv file\n",
    "data = pd.read_csv(\"https://raw.githubusercontent.com/sivabalanb/Data-Analysis-with-Pandas-and-Python/master/nba.csv\", index_col =\"Name\")\n",
    " \n",
    "# retrieving row by loc method\n",
    "first = data.loc[\"Avery Bradley\"]\n",
    "second = data.loc[\"R.J. Hunter\"]\n",
    " \n",
    "print(first, \"\\n\\n\\n\", second)"
   ]
  },
  {
   "cell_type": "markdown",
   "metadata": {},
   "source": [
    "### Indexing and Selecting Data\n",
    "**Indexing a Dataframe using indexing operator []**"
   ]
  },
  {
   "cell_type": "code",
   "execution_count": 35,
   "metadata": {},
   "outputs": [
    {
     "name": "stdout",
     "output_type": "stream",
     "text": [
      "Name\n",
      "Avery Bradley    25.0\n",
      "Jae Crowder      25.0\n",
      "John Holland     27.0\n",
      "R.J. Hunter      22.0\n",
      "Jonas Jerebko    29.0\n",
      "                 ... \n",
      "Shelvin Mack     26.0\n",
      "Raul Neto        24.0\n",
      "Tibor Pleiss     26.0\n",
      "Jeff Withey      26.0\n",
      "NaN               NaN\n",
      "Name: Age, Length: 458, dtype: float64\n"
     ]
    }
   ],
   "source": [
    "# importing pandas package\n",
    "import pandas as pd\n",
    " \n",
    "# making data frame from csv file\n",
    "data = pd.read_csv(\"https://raw.githubusercontent.com/sivabalanb/Data-Analysis-with-Pandas-and-Python/master/nba.csv\", index_col =\"Name\")\n",
    " \n",
    "# retrieving columns by indexing operator\n",
    "first = data[\"Age\"]\n",
    "\n",
    "print(first)"
   ]
  },
  {
   "cell_type": "markdown",
   "metadata": {},
   "source": [
    "Indexing a DataFrame using .loc[]"
   ]
  },
  {
   "cell_type": "code",
   "execution_count": 36,
   "metadata": {},
   "outputs": [
    {
     "name": "stdout",
     "output_type": "stream",
     "text": [
      "Team        Boston Celtics\n",
      "Number                   0\n",
      "Position                PG\n",
      "Age                     25\n",
      "Height                 6-2\n",
      "Weight                 180\n",
      "College              Texas\n",
      "Salary         7.73034e+06\n",
      "Name: Avery Bradley, dtype: object \n",
      "\n",
      "\n",
      " Team        Boston Celtics\n",
      "Number                  28\n",
      "Position                SG\n",
      "Age                     22\n",
      "Height                 6-5\n",
      "Weight                 185\n",
      "College      Georgia State\n",
      "Salary         1.14864e+06\n",
      "Name: R.J. Hunter, dtype: object\n"
     ]
    }
   ],
   "source": [
    "# importing pandas package\n",
    "import pandas as pd\n",
    " \n",
    "# making data frame from csv file\n",
    "data = pd.read_csv(\"https://raw.githubusercontent.com/sivabalanb/Data-Analysis-with-Pandas-and-Python/master/nba.csv\", index_col =\"Name\")\n",
    " \n",
    "# retrieving row by loc method\n",
    "first = data.loc[\"Avery Bradley\"]\n",
    "second = data.loc[\"R.J. Hunter\"]\n",
    " \n",
    "print(first, \"\\n\\n\\n\", second)"
   ]
  },
  {
   "cell_type": "markdown",
   "metadata": {},
   "source": [
    "**Indexing a DataFrame using .iloc[]**"
   ]
  },
  {
   "cell_type": "code",
   "execution_count": 37,
   "metadata": {},
   "outputs": [
    {
     "name": "stdout",
     "output_type": "stream",
     "text": [
      "Team        Boston Celtics\n",
      "Number                  28\n",
      "Position                SG\n",
      "Age                     22\n",
      "Height                 6-5\n",
      "Weight                 185\n",
      "College      Georgia State\n",
      "Salary         1.14864e+06\n",
      "Name: R.J. Hunter, dtype: object\n"
     ]
    }
   ],
   "source": [
    "import pandas as pd\n",
    " \n",
    "# making data frame from csv file\n",
    "data = pd.read_csv(\"https://raw.githubusercontent.com/sivabalanb/Data-Analysis-with-Pandas-and-Python/master/nba.csv\", index_col =\"Name\")\n",
    " \n",
    "# retrieving rows by iloc method \n",
    "row2 = data.iloc[3] \n",
    " \n",
    "print(row2)"
   ]
  },
  {
   "cell_type": "markdown",
   "metadata": {},
   "source": [
    "### Working with Missing Data\n",
    "**Checking for missing values using isnull() and notnull()**"
   ]
  },
  {
   "cell_type": "code",
   "execution_count": 38,
   "metadata": {},
   "outputs": [
    {
     "data": {
      "text/html": [
       "<div>\n",
       "<style scoped>\n",
       "    .dataframe tbody tr th:only-of-type {\n",
       "        vertical-align: middle;\n",
       "    }\n",
       "\n",
       "    .dataframe tbody tr th {\n",
       "        vertical-align: top;\n",
       "    }\n",
       "\n",
       "    .dataframe thead th {\n",
       "        text-align: right;\n",
       "    }\n",
       "</style>\n",
       "<table border=\"1\" class=\"dataframe\">\n",
       "  <thead>\n",
       "    <tr style=\"text-align: right;\">\n",
       "      <th></th>\n",
       "      <th>First Score</th>\n",
       "      <th>Second Score</th>\n",
       "      <th>Third Score</th>\n",
       "    </tr>\n",
       "  </thead>\n",
       "  <tbody>\n",
       "    <tr>\n",
       "      <th>0</th>\n",
       "      <td>False</td>\n",
       "      <td>False</td>\n",
       "      <td>True</td>\n",
       "    </tr>\n",
       "    <tr>\n",
       "      <th>1</th>\n",
       "      <td>False</td>\n",
       "      <td>False</td>\n",
       "      <td>False</td>\n",
       "    </tr>\n",
       "    <tr>\n",
       "      <th>2</th>\n",
       "      <td>True</td>\n",
       "      <td>False</td>\n",
       "      <td>False</td>\n",
       "    </tr>\n",
       "    <tr>\n",
       "      <th>3</th>\n",
       "      <td>False</td>\n",
       "      <td>True</td>\n",
       "      <td>False</td>\n",
       "    </tr>\n",
       "  </tbody>\n",
       "</table>\n",
       "</div>"
      ],
      "text/plain": [
       "   First Score  Second Score  Third Score\n",
       "0        False         False         True\n",
       "1        False         False        False\n",
       "2         True         False        False\n",
       "3        False          True        False"
      ]
     },
     "execution_count": 38,
     "metadata": {},
     "output_type": "execute_result"
    }
   ],
   "source": [
    "# importing pandas as pd\n",
    "import pandas as pd\n",
    " \n",
    "# importing numpy as np\n",
    "import numpy as np\n",
    " \n",
    "# dictionary of lists\n",
    "dict = {'First Score':[80, 90, np.nan, 85], 'Second Score': [35, 45, 65, np.nan], 'Third Score':[np.nan, 90, 80, 70]}\n",
    " \n",
    "# creating a dataframe from list\n",
    "df = pd.DataFrame(dict)\n",
    " \n",
    "# using isnull() function  \n",
    "df.isnull()"
   ]
  },
  {
   "cell_type": "markdown",
   "metadata": {},
   "source": [
    "**Filling missing values using fillna(), replace() and interpolate()**"
   ]
  },
  {
   "cell_type": "code",
   "execution_count": 39,
   "metadata": {},
   "outputs": [
    {
     "data": {
      "text/html": [
       "<div>\n",
       "<style scoped>\n",
       "    .dataframe tbody tr th:only-of-type {\n",
       "        vertical-align: middle;\n",
       "    }\n",
       "\n",
       "    .dataframe tbody tr th {\n",
       "        vertical-align: top;\n",
       "    }\n",
       "\n",
       "    .dataframe thead th {\n",
       "        text-align: right;\n",
       "    }\n",
       "</style>\n",
       "<table border=\"1\" class=\"dataframe\">\n",
       "  <thead>\n",
       "    <tr style=\"text-align: right;\">\n",
       "      <th></th>\n",
       "      <th>First Score</th>\n",
       "      <th>Second Score</th>\n",
       "      <th>Third Score</th>\n",
       "    </tr>\n",
       "  </thead>\n",
       "  <tbody>\n",
       "    <tr>\n",
       "      <th>0</th>\n",
       "      <td>80.0</td>\n",
       "      <td>35.0</td>\n",
       "      <td>0.0</td>\n",
       "    </tr>\n",
       "    <tr>\n",
       "      <th>1</th>\n",
       "      <td>90.0</td>\n",
       "      <td>45.0</td>\n",
       "      <td>90.0</td>\n",
       "    </tr>\n",
       "    <tr>\n",
       "      <th>2</th>\n",
       "      <td>0.0</td>\n",
       "      <td>65.0</td>\n",
       "      <td>80.0</td>\n",
       "    </tr>\n",
       "    <tr>\n",
       "      <th>3</th>\n",
       "      <td>85.0</td>\n",
       "      <td>0.0</td>\n",
       "      <td>70.0</td>\n",
       "    </tr>\n",
       "  </tbody>\n",
       "</table>\n",
       "</div>"
      ],
      "text/plain": [
       "   First Score  Second Score  Third Score\n",
       "0         80.0          35.0          0.0\n",
       "1         90.0          45.0         90.0\n",
       "2          0.0          65.0         80.0\n",
       "3         85.0           0.0         70.0"
      ]
     },
     "execution_count": 39,
     "metadata": {},
     "output_type": "execute_result"
    }
   ],
   "source": [
    "# importing pandas as pd\n",
    "import pandas as pd\n",
    " \n",
    "# importing numpy as np\n",
    "import numpy as np\n",
    " \n",
    "# dictionary of lists\n",
    "dict = {'First Score':[80, 90, np.nan, 85], 'Second Score': [35, 45, 65, np.nan], 'Third Score':[np.nan, 90, 80, 70]}\n",
    " \n",
    "# creating a dataframe from dictionary\n",
    "df = pd.DataFrame(dict)\n",
    " \n",
    "# filling missing value using fillna()  \n",
    "df.fillna(0)"
   ]
  },
  {
   "cell_type": "markdown",
   "metadata": {},
   "source": [
    "**Dropping missing values using dropna()**"
   ]
  },
  {
   "cell_type": "code",
   "execution_count": 40,
   "metadata": {},
   "outputs": [
    {
     "data": {
      "text/html": [
       "<div>\n",
       "<style scoped>\n",
       "    .dataframe tbody tr th:only-of-type {\n",
       "        vertical-align: middle;\n",
       "    }\n",
       "\n",
       "    .dataframe tbody tr th {\n",
       "        vertical-align: top;\n",
       "    }\n",
       "\n",
       "    .dataframe thead th {\n",
       "        text-align: right;\n",
       "    }\n",
       "</style>\n",
       "<table border=\"1\" class=\"dataframe\">\n",
       "  <thead>\n",
       "    <tr style=\"text-align: right;\">\n",
       "      <th></th>\n",
       "      <th>First Score</th>\n",
       "      <th>Second Score</th>\n",
       "      <th>Third Score</th>\n",
       "      <th>Fourth Score</th>\n",
       "    </tr>\n",
       "  </thead>\n",
       "  <tbody>\n",
       "    <tr>\n",
       "      <th>0</th>\n",
       "      <td>80.0</td>\n",
       "      <td>35.0</td>\n",
       "      <td>42</td>\n",
       "      <td>NaN</td>\n",
       "    </tr>\n",
       "    <tr>\n",
       "      <th>1</th>\n",
       "      <td>90.0</td>\n",
       "      <td>NaN</td>\n",
       "      <td>40</td>\n",
       "      <td>NaN</td>\n",
       "    </tr>\n",
       "    <tr>\n",
       "      <th>2</th>\n",
       "      <td>NaN</td>\n",
       "      <td>45.0</td>\n",
       "      <td>80</td>\n",
       "      <td>NaN</td>\n",
       "    </tr>\n",
       "    <tr>\n",
       "      <th>3</th>\n",
       "      <td>75.0</td>\n",
       "      <td>65.0</td>\n",
       "      <td>95</td>\n",
       "      <td>65.0</td>\n",
       "    </tr>\n",
       "  </tbody>\n",
       "</table>\n",
       "</div>"
      ],
      "text/plain": [
       "   First Score  Second Score  Third Score  Fourth Score\n",
       "0         80.0          35.0           42           NaN\n",
       "1         90.0           NaN           40           NaN\n",
       "2          NaN          45.0           80           NaN\n",
       "3         75.0          65.0           95          65.0"
      ]
     },
     "execution_count": 40,
     "metadata": {},
     "output_type": "execute_result"
    }
   ],
   "source": [
    "# importing pandas as pd\n",
    "import pandas as pd\n",
    " \n",
    "# importing numpy as np\n",
    "import numpy as np\n",
    " \n",
    "# dictionary of lists\n",
    "dict = {'First Score':[80, 90, np.nan, 75], 'Second Score': [35, np.nan, 45, 65], 'Third Score':[42, 40, 80, 95], 'Fourth Score':[np.nan, np.nan, np.nan, 65]}\n",
    " \n",
    "# creating a dataframe from dictionary\n",
    "df = pd.DataFrame(dict)\n",
    "\n",
    "# using dropna() function \n",
    "df"
   ]
  },
  {
   "cell_type": "markdown",
   "metadata": {},
   "source": [
    "### Iterating over rows and columns\n",
    "**Iterating over rows**"
   ]
  },
  {
   "cell_type": "code",
   "execution_count": 41,
   "metadata": {},
   "outputs": [
    {
     "name": "stdout",
     "output_type": "stream",
     "text": [
      "     name  degree  score\n",
      "0  aparna     MBA     90\n",
      "1  pankaj     BCA     40\n",
      "2  sudhir  M.Tech     80\n",
      "3   Geeku     MBA     98\n"
     ]
    }
   ],
   "source": [
    "# importing pandas as pd\n",
    "import pandas as pd\n",
    "  \n",
    "# dictionary of lists\n",
    "dict = {'name':[\"aparna\", \"pankaj\", \"sudhir\", \"Geeku\"], 'degree': [\"MBA\", \"BCA\", \"M.Tech\", \"MBA\"], 'score':[90, 40, 80, 98]}\n",
    " \n",
    "# creating a dataframe from a dictionary \n",
    "df = pd.DataFrame(dict)\n",
    " \n",
    "print(df)"
   ]
  },
  {
   "cell_type": "markdown",
   "metadata": {},
   "source": [
    "**Iterating over Columns**"
   ]
  },
  {
   "cell_type": "code",
   "execution_count": 42,
   "metadata": {},
   "outputs": [
    {
     "name": "stdout",
     "output_type": "stream",
     "text": [
      "     name  degree  score\n",
      "0  aparna     MBA     90\n",
      "1  pankaj     BCA     40\n",
      "2  sudhir  M.Tech     80\n",
      "3   Geeku     MBA     98\n"
     ]
    }
   ],
   "source": [
    "# importing pandas as pd\n",
    "import pandas as pd\n",
    "   \n",
    "# dictionary of lists\n",
    "dict = {'name':[\"aparna\", \"pankaj\", \"sudhir\", \"Geeku\"], 'degree': [\"MBA\", \"BCA\", \"M.Tech\", \"MBA\"], 'score':[90, 40, 80, 98]}\n",
    "  \n",
    "# creating a dataframe from a dictionary \n",
    "df = pd.DataFrame(dict)\n",
    " \n",
    "print(df)"
   ]
  },
  {
   "cell_type": "code",
   "execution_count": null,
   "metadata": {},
   "outputs": [],
   "source": []
  }
 ],
 "metadata": {
  "kernelspec": {
   "display_name": "Python 3",
   "language": "python",
   "name": "python3"
  },
  "language_info": {
   "codemirror_mode": {
    "name": "ipython",
    "version": 3
   },
   "file_extension": ".py",
   "mimetype": "text/x-python",
   "name": "python",
   "nbconvert_exporter": "python",
   "pygments_lexer": "ipython3",
   "version": "3.8.5"
  }
 },
 "nbformat": 4,
 "nbformat_minor": 4
}
